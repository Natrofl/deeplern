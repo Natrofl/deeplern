{
  "nbformat": 4,
  "nbformat_minor": 0,
  "metadata": {
    "colab": {
      "name": "lab2-метод-градиентногоспуска.ipynb",
      "provenance": [],
      "collapsed_sections": []
    },
    "kernelspec": {
      "name": "python3",
      "display_name": "Python 3"
    },
    "language_info": {
      "name": "python"
    },
    "accelerator": "GPU"
  },
  "cells": [
    {
      "cell_type": "markdown",
      "source": [
        "# Обучение однослойного персептрона методом стохастического градиентного спуска"
      ],
      "metadata": {
        "id": "PFephyl9Rv0k"
      }
    },
    {
      "cell_type": "markdown",
      "source": [
        "Цель работы. Изучить алгоритм обучения однослойного персептрона методом стохастического градиентного спуска.\n",
        "Задание. Построить и обучить нейронную сеть для распознавания цифровых рукописных символов из базы данных MNIST (Mixed National Institute of Standards and Technology database). \\\\\n",
        " Нейронная сеть должна корректно распознавать образы из тестовой выборки в большинстве случаев. Общий процент ошибки распознавания образов не должен быть выше 20%."
      ],
      "metadata": {
        "id": "EtCjzIRX_xYC"
      }
    },
    {
      "cell_type": "markdown",
      "source": [
        "## Загрузка и представление даных\n",
        "\n",
        "\n",
        "Датасет MNIST взят отсюда: https://www.kaggle.com/datasets/vikramtiwari/mnist-numpy?resource=download"
      ],
      "metadata": {
        "id": "lB1pVBjMbeuP"
      }
    },
    {
      "cell_type": "code",
      "source": [
        "from google.colab import drive\n",
        "drive.mount('/content/drive')"
      ],
      "metadata": {
        "colab": {
          "base_uri": "https://localhost:8080/"
        },
        "id": "BDM5hO4x8IZx",
        "outputId": "799594ac-fb0b-46d8-b771-f0513b445687"
      },
      "execution_count": 4,
      "outputs": [
        {
          "output_type": "stream",
          "name": "stdout",
          "text": [
            "Mounted at /content/drive\n"
          ]
        }
      ]
    },
    {
      "cell_type": "code",
      "source": [
        "!ls drive/MyDrive/labs/\n",
        "PATH = '/content/drive/MyDrive/labs/mnist.npz'\n"
      ],
      "metadata": {
        "colab": {
          "base_uri": "https://localhost:8080/"
        },
        "id": "3p2lSwXf8Kns",
        "outputId": "ae86d150-d553-457f-868c-1025384aa1ce"
      },
      "execution_count": 5,
      "outputs": [
        {
          "output_type": "stream",
          "name": "stdout",
          "text": [
            "mnist.npz  Test  Train\n"
          ]
        }
      ]
    },
    {
      "cell_type": "code",
      "source": [
        "import numpy as np"
      ],
      "metadata": {
        "id": "KYjaTu5SyRM5"
      },
      "execution_count": 6,
      "outputs": []
    },
    {
      "cell_type": "code",
      "source": [
        "def load_data(path):\n",
        "    with np.load(path, allow_pickle=True) as f:\n",
        "        x_train, y_train = f['x_train'], f['y_train']\n",
        "        x_test, y_test = f['x_test'], f['y_test']\n",
        "        return (x_train, y_train), (x_test, y_test)\n",
        "\n",
        "(X_train, y_train), (X_test, y_test) = load_data(PATH)"
      ],
      "metadata": {
        "id": "50cAdXgwSB_Y"
      },
      "execution_count": 7,
      "outputs": []
    },
    {
      "cell_type": "code",
      "source": [
        "print('Data shapes: ')\n",
        "print('X_train: ', X_train.shape)\n",
        "print('y_train: ', y_train.shape)\n",
        "print('X_test: ', X_test.shape)\n",
        "print('y_test: ', y_test.shape)"
      ],
      "metadata": {
        "colab": {
          "base_uri": "https://localhost:8080/"
        },
        "id": "gsSrMpj0eiwQ",
        "outputId": "d53a941b-eb56-4b7a-8f62-a49dbd8a7eb9"
      },
      "execution_count": 8,
      "outputs": [
        {
          "output_type": "stream",
          "name": "stdout",
          "text": [
            "Data shapes: \n",
            "X_train:  (60000, 28, 28)\n",
            "y_train:  (60000,)\n",
            "X_test:  (10000, 28, 28)\n",
            "y_test:  (10000,)\n"
          ]
        }
      ]
    },
    {
      "cell_type": "markdown",
      "source": [
        "### Визуализация данных:"
      ],
      "metadata": {
        "id": "pZBHyjVcYfT1"
      }
    },
    {
      "cell_type": "code",
      "source": [
        "from matplotlib import pyplot as plt\n",
        "plt.figure(figsize=(6,6))\n",
        "a, b = 3, 3\n",
        "for i in range(a*b):  \n",
        "    plt.subplot(b, a, i+1)\n",
        "    plt.imshow(X_train[i], cmap='gray')\n",
        "    plt.title(str(y_train[i]))\n",
        "plt.tight_layout()\n",
        "plt.show()"
      ],
      "metadata": {
        "colab": {
          "base_uri": "https://localhost:8080/",
          "height": 441
        },
        "id": "7kuldqcvyuYV",
        "outputId": "8bc9e464-e901-4954-9e5a-4c449d4d8455"
      },
      "execution_count": 10,
      "outputs": [
        {
          "output_type": "display_data",
          "data": {
            "text/plain": [
              "<Figure size 432x432 with 9 Axes>"
            ],
            "image/png": "[encoded data removed]"
          },
          "metadata": {
            "needs_background": "light"
          }
        }
      ]
    },
    {
      "cell_type": "code",
      "source": [
        "y_train[0:9]"
      ],
      "metadata": {
        "colab": {
          "base_uri": "https://localhost:8080/"
        },
        "id": "-8g4GtZeyuaa",
        "outputId": "38433791-9e2d-4f81-a5d7-cf36de167a4e"
      },
      "execution_count": 11,
      "outputs": [
        {
          "output_type": "execute_result",
          "data": {
            "text/plain": [
              "array([5, 0, 4, 1, 9, 2, 1, 3, 1], dtype=uint8)"
            ]
          },
          "metadata": {},
          "execution_count": 11
        }
      ]
    },
    {
      "cell_type": "code",
      "source": [
        "import os\n",
        "import torch\n",
        "import torchvision\n",
        "\n",
        "class Dataset_train(torch.utils.data.Dataset):\n",
        "    def __init__(self, transform):\n",
        "        self.transform = transform\n",
        "\n",
        "        (X_train, y_train), (_, _) = load_data(PATH)\n",
        "\n",
        "        self.X_train = X_train\n",
        "        self.y_train = y_train\n",
        "        self.classes = len(np.unique(self.y_train))\n",
        "\n",
        "    def __getitem__(self, idx):\n",
        "        image = self.X_train[idx]\n",
        "        label = self.y_train[idx]\n",
        "        if self.transform:\n",
        "            image = self.transform(image)\n",
        "            label = torch.tensor(label)\n",
        "        image = image.reshape(-1)\n",
        "        return image.float(), label.float()\n",
        "    \n",
        "    def __len__(self):\n",
        "        return self.X_train.shape[0]\n",
        "\n",
        "import torchvision\n",
        "from torch.utils.data import DataLoader\n",
        "\n",
        "train_dataset = Dataset_train(transform=torchvision.transforms.ToTensor())\n",
        "train_dataloader = DataLoader(train_dataset, batch_size=64, shuffle=True)"
      ],
      "metadata": {
        "id": "znGmsJP6CsjT"
      },
      "execution_count": 15,
      "outputs": []
    },
    {
      "cell_type": "markdown",
      "source": [
        "## Задание архитектуры модели\n",
        "\n",
        "Создадим однослойный персептрон с 28*28 входными нейронами и выходом размера 10 - вектором вероятности класса. \\\\\n"
      ],
      "metadata": {
        "id": "7X4DlaGJqqjX"
      }
    },
    {
      "cell_type": "code",
      "source": [
        "import torch\n",
        "import torch.nn as nn\n",
        "import torch.optim as optim\n",
        "from torch.nn import Linear, LogSoftmax"
      ],
      "metadata": {
        "id": "J89EV9wetGti"
      },
      "execution_count": 16,
      "outputs": []
    },
    {
      "cell_type": "code",
      "source": [
        "input_size = X_train.shape[1] * X_train.shape[2]\n",
        "output_size = 10\n",
        "\n",
        "batch_size = 64"
      ],
      "metadata": {
        "id": "5SAhlc4F01Wr"
      },
      "execution_count": 17,
      "outputs": []
    },
    {
      "cell_type": "code",
      "source": [
        "loss_curves = []\n",
        "device = 'cuda'\n",
        "\n",
        "model = torch.nn.Sequential(\n",
        "     Linear(input_size, output_size),\n",
        "     LogSoftmax(),\n",
        " ).to(device)\n",
        "\n",
        "loss_fn = torch.nn.CrossEntropyLoss()\n",
        "learning_rate = 1e-3\n",
        "optimizer = torch.optim.SGD(model.parameters(), lr=learning_rate)\n",
        "num_epoch = 50\n",
        "losses = []\n",
        "acc = []"
      ],
      "metadata": {
        "id": "V1-jDlAGAlik"
      },
      "execution_count": 18,
      "outputs": []
    },
    {
      "cell_type": "markdown",
      "source": [
        "## Обучающий цикл:\n",
        "\n",
        "Функция потерь - кросс-энтропияю \\\\\n",
        "Метод оптимизации - стохастический градиентный спуск \\\\\n",
        "Критерий останова - количество эпох"
      ],
      "metadata": {
        "id": "hrHvjNiMWPs0"
      }
    },
    {
      "cell_type": "code",
      "source": [
        "for epoch in range(num_epoch):\n",
        "    loss_curve = []\n",
        "    accuracy_curve = []\n",
        "    for i, (train_features, train_labels) in enumerate(train_dataloader):\n",
        "        X = train_features.to(device)\n",
        "        y = train_labels.type(torch.LongTensor).to(device)\n",
        "        y_pred = model(X)\n",
        "        loss = loss_fn(y_pred, y)\n",
        "        accuracy = ((torch.max(y_pred.data, 1)[1] == y).sum() / len(y)).cpu().detach().numpy()\n",
        "        accuracy_curve.append(accuracy)\n",
        "        loss_curve.append(loss.cpu().detach().numpy())\n",
        "        optimizer.zero_grad()\n",
        "        loss.backward()\n",
        "        optimizer.step()\n",
        "    losses.append(np.mean(loss_curve))\n",
        "    acc.append(np.mean(accuracy_curve))"
      ],
      "metadata": {
        "id": "DQwRW62jSCCb",
        "colab": {
          "base_uri": "https://localhost:8080/"
        },
        "outputId": "91151252-a183-4446-c7d7-283a81604618"
      },
      "execution_count": 19,
      "outputs": [
        {
          "output_type": "stream",
          "name": "stderr",
          "text": [
            "/usr/local/lib/python3.7/dist-packages/torch/nn/modules/container.py:141: UserWarning: Implicit dimension choice for log_softmax has been deprecated. Change the call to include dim=X as an argument.\n",
            "  input = module(input)\n"
          ]
        }
      ]
    },
    {
      "cell_type": "markdown",
      "source": [
        "## Анализ обучающего цикла:\n",
        "\n"
      ],
      "metadata": {
        "id": "T759qrvrVmga"
      }
    },
    {
      "cell_type": "code",
      "source": [
        "plt.plot(losses)\n",
        "plt.title('CrossEntropyLoss')\n",
        "plt.xlabel('n epoch')\n",
        "plt.ylabel('loss')"
      ],
      "metadata": {
        "id": "lUauNk_w6ZC2",
        "colab": {
          "base_uri": "https://localhost:8080/",
          "height": 312
        },
        "outputId": "7abe592e-65ff-483d-84cc-6eaf4eaacb5f"
      },
      "execution_count": 20,
      "outputs": [
        {
          "output_type": "execute_result",
          "data": {
            "text/plain": [
              "Text(0, 0.5, 'loss')"
            ]
          },
          "metadata": {},
          "execution_count": 20
        },
        {
          "output_type": "display_data",
          "data": {
            "text/plain": [
              "<Figure size 432x288 with 1 Axes>"
            ],
            "image/png": "[encoded data removed]"
          },
          "metadata": {
            "needs_background": "light"
          }
        }
      ]
    },
    {
      "cell_type": "code",
      "source": [
        "plt.plot(acc)\n",
        "plt.title('Accuracy ')\n",
        "plt.xlabel('n epoch')\n",
        "plt.ylabel('accuracy')\n",
        "plt.axhline(y=0.8, color='r', linestyle='-')"
      ],
      "metadata": {
        "id": "JJiZgxQrMxHc",
        "colab": {
          "base_uri": "https://localhost:8080/",
          "height": 312
        },
        "outputId": "90ab8fab-38e9-43df-b354-de5e6773c3e0"
      },
      "execution_count": 21,
      "outputs": [
        {
          "output_type": "execute_result",
          "data": {
            "text/plain": [
              "<matplotlib.lines.Line2D at 0x7fef6968cdd0>"
            ]
          },
          "metadata": {},
          "execution_count": 21
        },
        {
          "output_type": "display_data",
          "data": {
            "text/plain": [
              "<Figure size 432x288 with 1 Axes>"
            ],
            "image/png": "[encoded data removed]"
          },
          "metadata": {
            "needs_background": "light"
          }
        }
      ]
    },
    {
      "cell_type": "markdown",
      "source": [
        "Видим, что функция потерь выходит на константу, что говорит об успешном обучении. Проверим это на тестовой выборке:"
      ],
      "metadata": {
        "id": "oYks-eCXXsGp"
      }
    },
    {
      "cell_type": "markdown",
      "source": [
        "## Тестирование"
      ],
      "metadata": {
        "id": "N88AzwhyTMrq"
      }
    },
    {
      "cell_type": "code",
      "source": [
        "test_preds = torch.argmax(model(torch.Tensor(X_test.reshape(X_test.shape[0], 784)).to(device)), 1).detach().cpu().numpy()"
      ],
      "metadata": {
        "colab": {
          "base_uri": "https://localhost:8080/"
        },
        "id": "2iVYlwfhTbW4",
        "outputId": "f977bf11-6e39-411e-e506-97125e6d1e2c"
      },
      "execution_count": 24,
      "outputs": [
        {
          "output_type": "stream",
          "name": "stderr",
          "text": [
            "/usr/local/lib/python3.7/dist-packages/torch/nn/modules/container.py:141: UserWarning: Implicit dimension choice for log_softmax has been deprecated. Change the call to include dim=X as an argument.\n",
            "  input = module(input)\n"
          ]
        }
      ]
    },
    {
      "cell_type": "code",
      "source": [
        "from sklearn.metrics import accuracy_score"
      ],
      "metadata": {
        "id": "sn-VYWbvULcO"
      },
      "execution_count": 23,
      "outputs": []
    },
    {
      "cell_type": "code",
      "source": [
        "print(accuracy_score(y_test, test_preds))"
      ],
      "metadata": {
        "colab": {
          "base_uri": "https://localhost:8080/"
        },
        "id": "TN9molAvU-Kk",
        "outputId": "3b59a674-1463-451b-e7a0-82bf64a4fd3a"
      },
      "execution_count": 25,
      "outputs": [
        {
          "output_type": "stream",
          "name": "stdout",
          "text": [
            "0.8973\n"
          ]
        }
      ]
    },
    {
      "cell_type": "code",
      "source": [
        "wrong_answers = y_test != test_preds\n",
        "bad_classification_X = X_test[wrong_answers][0:9]\n",
        "wrong_preds = test_preds[wrong_answers]"
      ],
      "metadata": {
        "id": "NVmRXmMHYrMR"
      },
      "execution_count": 26,
      "outputs": []
    },
    {
      "cell_type": "code",
      "source": [
        "from matplotlib import pyplot as plt\n",
        "plt.figure(figsize=(6,6))\n",
        "a, b = 3, 3\n",
        "for i in range(a*b):  \n",
        "    plt.subplot(b, a, i+1)\n",
        "    plt.imshow(bad_classification_X.reshape(9, 28, 28)[i], cmap='gray')\n",
        "    plt.title(\"Predicted: \"+str(wrong_preds[i]))\n",
        "plt.tight_layout()\n",
        "plt.show()"
      ],
      "metadata": {
        "colab": {
          "base_uri": "https://localhost:8080/",
          "height": 441
        },
        "id": "7x2wjRz1ZEl6",
        "outputId": "9d48ad4e-88b5-4dab-ba94-0051e139a8e6"
      },
      "execution_count": 27,
      "outputs": [
        {
          "output_type": "display_data",
          "data": {
            "text/plain": [
              "<Figure size 432x432 with 9 Axes>"
            ],
            "image/png": "[encoded data removed]"
          },
          "metadata": {
            "needs_background": "light"
          }
        }
      ]
    },
    {
      "cell_type": "code",
      "source": [
        "right_answers = y_test == test_preds\n",
        "good_classification_X = X_test[right_answers][0:9]\n",
        "right_preds = test_preds[right_answers]"
      ],
      "metadata": {
        "id": "1P10FchBZEvQ"
      },
      "execution_count": 28,
      "outputs": []
    },
    {
      "cell_type": "code",
      "source": [
        "from matplotlib import pyplot as plt\n",
        "plt.figure(figsize=(6,6))\n",
        "a, b = 3, 3\n",
        "for i in range(a*b):  \n",
        "    plt.subplot(b, a, i+1)\n",
        "    plt.imshow(good_classification_X.reshape(9, 28, 28)[i], cmap='gray')\n",
        "    plt.title(\"Predicted: \"+str(right_preds[i]))\n",
        "plt.tight_layout()\n",
        "plt.show()"
      ],
      "metadata": {
        "colab": {
          "base_uri": "https://localhost:8080/",
          "height": 441
        },
        "id": "KAOaIAWEZ-e2",
        "outputId": "f0670c3a-a905-47cc-a394-8e503770ced7"
      },
      "execution_count": 29,
      "outputs": [
        {
          "output_type": "display_data",
          "data": {
            "text/plain": [
              "<Figure size 432x432 with 9 Axes>"
            ],
            "image/png": "[encoded data removed]"
          },
          "metadata": {
            "needs_background": "light"
          }
        }
      ]
    },
    {
      "cell_type": "markdown",
      "source": [
        "На тестовой выборке достигнуто требуемое по условию качество классификации - 0.88"
      ],
      "metadata": {
        "id": "IlGPhMXQYClu"
      }
    },
    {
      "cell_type": "markdown",
      "source": [
        "## Выводы:\n",
        "\n",
        "Нейросеть предложенной архитектуры успешно справляется с задачей."
      ],
      "metadata": {
        "id": "1MTJirI_YLBQ"
      }
    }
  ]
}
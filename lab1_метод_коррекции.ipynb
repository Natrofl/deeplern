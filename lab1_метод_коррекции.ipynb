{
  "nbformat": 4,
  "nbformat_minor": 0,
  "metadata": {
    "colab": {
      "name": "lab1-метод-коррекции.ipynb",
      "provenance": [],
      "collapsed_sections": []
    },
    "kernelspec": {
      "name": "python3",
      "display_name": "Python 3"
    },
    "language_info": {
      "name": "python"
    },
    "accelerator": "GPU"
  },
  "cells": [
    {
      "cell_type": "markdown",
      "source": [
        "# Обучение однослойного персептрона методом коррекции по ошибке через дельта-правило\n"
      ],
      "metadata": {
        "id": "xeGXAS8X_wEY"
      }
    },
    {
      "cell_type": "code",
      "source": [
        "from google.colab import drive\n",
        "drive.mount('/content/drive')\n"
      ],
      "metadata": {
        "colab": {
          "base_uri": "https://localhost:8080/"
        },
        "id": "ryhwJADq19Fv",
        "outputId": "fcdcf932-6de2-4730-cfe3-6b1da1b004e7"
      },
      "execution_count": 11,
      "outputs": [
        {
          "output_type": "stream",
          "name": "stdout",
          "text": [
            "Drive already mounted at /content/drive; to attempt to forcibly remount, call drive.mount(\"/content/drive\", force_remount=True).\n"
          ]
        }
      ]
    },
    {
      "cell_type": "code",
      "source": [
        "!ls drive/MyDrive/labs/\n",
        "PATH = '/content/drive/MyDrive/labs'\n",
        "print(PATH + '/Train')\n"
      ],
      "metadata": {
        "colab": {
          "base_uri": "https://localhost:8080/"
        },
        "id": "HBlgZ8722brB",
        "outputId": "e26f1989-4f0e-4d02-a4ed-434ddff555f6"
      },
      "execution_count": 27,
      "outputs": [
        {
          "output_type": "stream",
          "name": "stdout",
          "text": [
            "mnist.npz  Test  Train\n",
            "/content/drive/MyDrive/labs/Train\n"
          ]
        }
      ]
    },
    {
      "cell_type": "markdown",
      "source": [
        "### предобработка данных"
      ],
      "metadata": {
        "id": "mWdvhmQtOEEY"
      }
    },
    {
      "cell_type": "code",
      "source": [
        "\n",
        "import matplotlib.pyplot as plt\n",
        "import numpy as np\n",
        "import torch\n",
        "from torchvision import datasets, transforms\n",
        "transform = transforms.Compose([transforms.Resize(28),\n",
        "                                transforms.ToTensor()])\n",
        "train_dataset = datasets.ImageFolder(PATH+'/Train', transform=transform)\n",
        "dataloader = torch.utils.data.DataLoader(train_dataset, batch_size=32, shuffle=True)\n",
        "images, labels = next(iter(dataloader))"
      ],
      "metadata": {
        "id": "r9ENmtzcasFe"
      },
      "execution_count": 28,
      "outputs": []
    },
    {
      "cell_type": "markdown",
      "source": [
        "картинки имеют 3 канала, выбираем любой один"
      ],
      "metadata": {
        "id": "r3Z6F-XoioO8"
      }
    },
    {
      "cell_type": "code",
      "source": [
        "plt.imshow(images[0][0])"
      ],
      "metadata": {
        "colab": {
          "base_uri": "https://localhost:8080/",
          "height": 282
        },
        "id": "A3SWKTPGio32",
        "outputId": "b30a4f26-5d4e-40e7-ca7c-bf1a4bcd8e8f"
      },
      "execution_count": 29,
      "outputs": [
        {
          "output_type": "execute_result",
          "data": {
            "text/plain": [
              "<matplotlib.image.AxesImage at 0x7f1e01d11650>"
            ]
          },
          "metadata": {},
          "execution_count": 29
        },
        {
          "output_type": "display_data",
          "data": {
            "text/plain": [
              "<Figure size 432x288 with 1 Axes>"
            ],
            "image/png": "[encoded data removed]"
          },
          "metadata": {
            "needs_background": "light"
          }
        }
      ]
    },
    {
      "cell_type": "code",
      "source": [
        "images = images[:, 0]\n",
        "images = images.reshape(24, 28*28)"
      ],
      "metadata": {
        "id": "0V9bE9bCis-f"
      },
      "execution_count": 30,
      "outputs": []
    },
    {
      "cell_type": "markdown",
      "source": [
        "##№ Архитектура сети:\n",
        "\n",
        "\n",
        "Входной слой: 784 x 1 \\\\ Метод обучения: дельта-правило\n"
      ],
      "metadata": {
        "id": "mFtQSStFi_xE"
      }
    },
    {
      "cell_type": "code",
      "source": [
        "import torch\n",
        "from torch.nn import Linear"
      ],
      "metadata": {
        "id": "t2RyvaOWlHZC"
      },
      "execution_count": 31,
      "outputs": []
    },
    {
      "cell_type": "code",
      "source": [
        "input_size = 784\n",
        "output_size = 1"
      ],
      "metadata": {
        "id": "cUoDZKW-iwxW"
      },
      "execution_count": 32,
      "outputs": []
    },
    {
      "cell_type": "code",
      "source": [
        "mlp = torch.nn.Sequential(\n",
        "    Linear(input_size, output_size)\n",
        ").to('cuda')\n",
        "\n",
        "loss_fn = torch.nn.MSELoss()\n",
        "learning_rate = 0.001\n",
        "optimizer = torch.optim.Adadelta(mlp.parameters(), lr=learning_rate)\n",
        "num_epoch = 5000"
      ],
      "metadata": {
        "id": "5B6uYYe8a8rC"
      },
      "execution_count": 33,
      "outputs": []
    },
    {
      "cell_type": "code",
      "source": [
        "train_data = torch.cuda.FloatTensor(images.numpy(), device='cuda')\n",
        "train_labels = torch.cuda.FloatTensor(labels.numpy(), device='cuda')\n",
        "\n",
        "loss_curve = []\n",
        "for epoch in range(num_epoch):\n",
        "    y_pred = mlp(train_data)\n",
        "    loss = loss_fn(y_pred.reshape(-1), train_labels)\n",
        "    optimizer.zero_grad()\n",
        "    loss.backward()\n",
        "    optimizer.step()\n",
        "\n",
        "    if epoch % 50 == 0:\n",
        "\n",
        "        print('Epoch:', epoch, 'Loss:', loss.item())\n",
        "        loss_curve.append(loss.item())\n",
        "    "
      ],
      "metadata": {
        "colab": {
          "base_uri": "https://localhost:8080/"
        },
        "id": "locAGuR5i_P1",
        "outputId": "380327d1-4d17-4f98-cbf6-a3d2a5923850"
      },
      "execution_count": 34,
      "outputs": [
        {
          "output_type": "stream",
          "name": "stdout",
          "text": [
            "Epoch: 0 Loss: 8.734559059143066\n",
            "Epoch: 50 Loss: 8.59416389465332\n",
            "Epoch: 100 Loss: 8.43310260772705\n",
            "Epoch: 150 Loss: 8.256653785705566\n",
            "Epoch: 200 Loss: 8.067907333374023\n",
            "Epoch: 250 Loss: 7.869389533996582\n",
            "Epoch: 300 Loss: 7.66324520111084\n",
            "Epoch: 350 Loss: 7.451326370239258\n",
            "Epoch: 400 Loss: 7.2352423667907715\n",
            "Epoch: 450 Loss: 7.016389846801758\n",
            "Epoch: 500 Loss: 6.796010494232178\n",
            "Epoch: 550 Loss: 6.575192451477051\n",
            "Epoch: 600 Loss: 6.354894638061523\n",
            "Epoch: 650 Loss: 6.135959625244141\n",
            "Epoch: 700 Loss: 5.919119834899902\n",
            "Epoch: 750 Loss: 5.705026149749756\n",
            "Epoch: 800 Loss: 5.494235992431641\n",
            "Epoch: 850 Loss: 5.287223815917969\n",
            "Epoch: 900 Loss: 5.084395408630371\n",
            "Epoch: 950 Loss: 4.886101722717285\n",
            "Epoch: 1000 Loss: 4.6926422119140625\n",
            "Epoch: 1050 Loss: 4.504262447357178\n",
            "Epoch: 1100 Loss: 4.3211469650268555\n",
            "Epoch: 1150 Loss: 4.143424034118652\n",
            "Epoch: 1200 Loss: 3.9711647033691406\n",
            "Epoch: 1250 Loss: 3.804403305053711\n",
            "Epoch: 1300 Loss: 3.6431567668914795\n",
            "Epoch: 1350 Loss: 3.487431287765503\n",
            "Epoch: 1400 Loss: 3.337205410003662\n",
            "Epoch: 1450 Loss: 3.1924216747283936\n",
            "Epoch: 1500 Loss: 3.052976131439209\n",
            "Epoch: 1550 Loss: 2.918740749359131\n",
            "Epoch: 1600 Loss: 2.7895617485046387\n",
            "Epoch: 1650 Loss: 2.6652724742889404\n",
            "Epoch: 1700 Loss: 2.5456924438476562\n",
            "Epoch: 1750 Loss: 2.4306507110595703\n",
            "Epoch: 1800 Loss: 2.3199961185455322\n",
            "Epoch: 1850 Loss: 2.2135915756225586\n",
            "Epoch: 1900 Loss: 2.111311435699463\n",
            "Epoch: 1950 Loss: 2.0130345821380615\n",
            "Epoch: 2000 Loss: 1.918628454208374\n",
            "Epoch: 2050 Loss: 1.8279523849487305\n",
            "Epoch: 2100 Loss: 1.7408380508422852\n",
            "Epoch: 2150 Loss: 1.657096266746521\n",
            "Epoch: 2200 Loss: 1.5765557289123535\n",
            "Epoch: 2250 Loss: 1.4990742206573486\n",
            "Epoch: 2300 Loss: 1.4245266914367676\n",
            "Epoch: 2350 Loss: 1.3528070449829102\n",
            "Epoch: 2400 Loss: 1.2838327884674072\n",
            "Epoch: 2450 Loss: 1.217540979385376\n",
            "Epoch: 2500 Loss: 1.153879165649414\n",
            "Epoch: 2550 Loss: 1.0927997827529907\n",
            "Epoch: 2600 Loss: 1.0342624187469482\n",
            "Epoch: 2650 Loss: 0.9782258868217468\n",
            "Epoch: 2700 Loss: 0.9246432781219482\n",
            "Epoch: 2750 Loss: 0.8734662532806396\n",
            "Epoch: 2800 Loss: 0.8246428370475769\n",
            "Epoch: 2850 Loss: 0.7781151533126831\n",
            "Epoch: 2900 Loss: 0.7338168025016785\n",
            "Epoch: 2950 Loss: 0.6916789412498474\n",
            "Epoch: 3000 Loss: 0.6516339778900146\n",
            "Epoch: 3050 Loss: 0.6136147975921631\n",
            "Epoch: 3100 Loss: 0.5775551199913025\n",
            "Epoch: 3150 Loss: 0.5433868765830994\n",
            "Epoch: 3200 Loss: 0.5110321044921875\n",
            "Epoch: 3250 Loss: 0.48040971159935\n",
            "Epoch: 3300 Loss: 0.4514427185058594\n",
            "Epoch: 3350 Loss: 0.4240584969520569\n",
            "Epoch: 3400 Loss: 0.3981862962245941\n",
            "Epoch: 3450 Loss: 0.37375879287719727\n",
            "Epoch: 3500 Loss: 0.35071200132369995\n",
            "Epoch: 3550 Loss: 0.32898467779159546\n",
            "Epoch: 3600 Loss: 0.30851826071739197\n",
            "Epoch: 3650 Loss: 0.2892553210258484\n",
            "Epoch: 3700 Loss: 0.27114129066467285\n",
            "Epoch: 3750 Loss: 0.2541232109069824\n",
            "Epoch: 3800 Loss: 0.23814892768859863\n",
            "Epoch: 3850 Loss: 0.22316735982894897\n",
            "Epoch: 3900 Loss: 0.20912835001945496\n",
            "Epoch: 3950 Loss: 0.1959826946258545\n",
            "Epoch: 4000 Loss: 0.18368135392665863\n",
            "Epoch: 4050 Loss: 0.17217373847961426\n",
            "Epoch: 4100 Loss: 0.1614101082086563\n",
            "Epoch: 4150 Loss: 0.15134376287460327\n",
            "Epoch: 4200 Loss: 0.14192968606948853\n",
            "Epoch: 4250 Loss: 0.13312405347824097\n",
            "Epoch: 4300 Loss: 0.12488480657339096\n",
            "Epoch: 4350 Loss: 0.11717238277196884\n",
            "Epoch: 4400 Loss: 0.10994893312454224\n",
            "Epoch: 4450 Loss: 0.10317840427160263\n",
            "Epoch: 4500 Loss: 0.09682701528072357\n",
            "Epoch: 4550 Loss: 0.09086285531520844\n",
            "Epoch: 4600 Loss: 0.08525635302066803\n",
            "Epoch: 4650 Loss: 0.0799805074930191\n",
            "Epoch: 4700 Loss: 0.0750114694237709\n",
            "Epoch: 4750 Loss: 0.07032817602157593\n",
            "Epoch: 4800 Loss: 0.065911665558815\n",
            "Epoch: 4850 Loss: 0.0617455393075943\n",
            "Epoch: 4900 Loss: 0.05781504511833191\n",
            "Epoch: 4950 Loss: 0.05410707741975784\n"
          ]
        }
      ]
    },
    {
      "cell_type": "code",
      "source": [
        "from matplotlib import pyplot as plt\n",
        "\n",
        "plt.plot(loss_curve)\n",
        "plt.title('Loss curve')\n",
        "plt.xlabel('epoch')\n",
        "plt.ylabel('loss')"
      ],
      "metadata": {
        "colab": {
          "base_uri": "https://localhost:8080/",
          "height": 312
        },
        "id": "u0vi9oyxbVGB",
        "outputId": "80e604c0-ea78-4e74-8bc8-606188995aa7"
      },
      "execution_count": 35,
      "outputs": [
        {
          "output_type": "execute_result",
          "data": {
            "text/plain": [
              "Text(0, 0.5, 'loss')"
            ]
          },
          "metadata": {},
          "execution_count": 35
        },
        {
          "output_type": "display_data",
          "data": {
            "text/plain": [
              "<Figure size 432x288 with 1 Axes>"
            ],
            "image/png": "[encoded data removed]"
          },
          "metadata": {
            "needs_background": "light"
          }
        }
      ]
    },
    {
      "cell_type": "code",
      "source": [
        "from sklearn.metrics import accuracy_score\n",
        "preds = y_pred.detach().cpu().numpy().round()\n",
        "print(\"Точность на обучении:\", accuracy_score(train_labels.detach().cpu().numpy(), preds))"
      ],
      "metadata": {
        "colab": {
          "base_uri": "https://localhost:8080/"
        },
        "id": "kQIa5wpGs8PT",
        "outputId": "76d90575-c5ba-41b3-9930-88343b0661a5"
      },
      "execution_count": 36,
      "outputs": [
        {
          "output_type": "stream",
          "name": "stdout",
          "text": [
            "Точность на обучении: 0.9583333333333334\n"
          ]
        }
      ]
    },
    {
      "cell_type": "markdown",
      "source": [
        "### Тестирование:"
      ],
      "metadata": {
        "id": "UYtDhELVrsTW"
      }
    },
    {
      "cell_type": "code",
      "source": [
        "test_dataset = datasets.ImageFolder(PATH+'/Test', transform=transform)\n",
        "dataloader = torch.utils.data.DataLoader(test_dataset, batch_size=32, shuffle=True)\n",
        "test_images, test_labels = next(iter(dataloader))\n",
        "\n",
        "test_images = test_images[:, 0]\n",
        "test_images = test_images.reshape(6, 28*28)"
      ],
      "metadata": {
        "id": "H69op_00r4KD"
      },
      "execution_count": 37,
      "outputs": []
    },
    {
      "cell_type": "code",
      "source": [
        "test_data = torch.cuda.FloatTensor(test_images.numpy(), device='cuda')\n",
        "test_preds = mlp(test_data).detach().cpu().numpy().round()"
      ],
      "metadata": {
        "id": "ykVDNmJJouff"
      },
      "execution_count": 38,
      "outputs": []
    },
    {
      "cell_type": "code",
      "source": [
        "print(\"Точность на тесте:\", accuracy_score(test_labels.numpy(), test_preds))"
      ],
      "metadata": {
        "id": "b_SZ2JA4uMx8",
        "colab": {
          "base_uri": "https://localhost:8080/"
        },
        "outputId": "728d139c-5e2d-47e4-bff3-0c041ff96e9a"
      },
      "execution_count": 39,
      "outputs": [
        {
          "output_type": "stream",
          "name": "stdout",
          "text": [
            "Точность на тесте: 0.8333333333333334\n"
          ]
        }
      ]
    },
    {
      "cell_type": "markdown",
      "source": [
        "### ошибка"
      ],
      "metadata": {
        "id": "7fbXbD7thcjb"
      }
    },
    {
      "cell_type": "code",
      "source": [
        "test_labels = test_labels.numpy().astype(int)\n",
        "test_preds = test_preds.reshape(-1).astype(int)"
      ],
      "metadata": {
        "id": "Lqw0qkWlf-8p"
      },
      "execution_count": 40,
      "outputs": []
    },
    {
      "cell_type": "code",
      "source": [
        "wrong_ans = test_preds != test_labels\n",
        "bad_classification_X = test_data[wrong_ans]\n",
        "wrong_preds = test_preds[wrong_ans]"
      ],
      "metadata": {
        "id": "oaSsOE0KevTf"
      },
      "execution_count": 41,
      "outputs": []
    },
    {
      "cell_type": "code",
      "source": [
        "plt.imshow(bad_classification_X.cpu().detach().numpy().reshape(28, 28))"
      ],
      "metadata": {
        "colab": {
          "base_uri": "https://localhost:8080/",
          "height": 282
        },
        "id": "w1LiDi2vfWAF",
        "outputId": "be39d6ce-bfea-4b70-8549-b6d632418295"
      },
      "execution_count": 43,
      "outputs": [
        {
          "output_type": "execute_result",
          "data": {
            "text/plain": [
              "<matplotlib.image.AxesImage at 0x7f1d8b6f4490>"
            ]
          },
          "metadata": {},
          "execution_count": 43
        },
        {
          "output_type": "display_data",
          "data": {
            "text/plain": [
              "<Figure size 432x288 with 1 Axes>"
            ],
            "image/png": "[encoded data removed]"
          },
          "metadata": {
            "needs_background": "light"
          }
        }
      ]
    },
    {
      "cell_type": "code",
      "source": [
        "print(\"Модель считает, что это\", wrong_preds[0])"
      ],
      "metadata": {
        "colab": {
          "base_uri": "https://localhost:8080/"
        },
        "id": "QUVja4zofRbi",
        "outputId": "b14b03ff-33b0-4f8f-c46a-4f8e89e5c988"
      },
      "execution_count": 44,
      "outputs": [
        {
          "output_type": "stream",
          "name": "stdout",
          "text": [
            "Модель считает, что это 4\n"
          ]
        }
      ]
    },
    {
      "cell_type": "markdown",
      "source": [
        "### Выводы:\n",
        "\n",
        "Сеть данной архитектуры решает нашу задачу как задачу регрессии, что говорит о том, что изображения цифр оказались хорошо линейно разделимы в пространстве векторов размера 784. \\\\\n",
        "\n",
        "Датасет слишком мал, для каких либо выводох. Сеть переобучилась на тренировочную выборку (что видно по лосс-кривой), и может выдавать ответы только на данных, очень похожих на тренировочные."
      ],
      "metadata": {
        "id": "SdgGhOo5dchz"
      }
    },
    {
      "cell_type": "code",
      "source": [
        ""
      ],
      "metadata": {
        "id": "NDQvgMhfhZK-"
      },
      "execution_count": null,
      "outputs": []
    }
  ]
}